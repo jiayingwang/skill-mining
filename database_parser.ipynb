{
 "cells": [
  {
   "cell_type": "code",
   "execution_count": 1,
   "metadata": {},
   "outputs": [],
   "source": [
    "from dblp import DBLP"
   ]
  },
  {
   "cell_type": "code",
   "execution_count": 2,
   "metadata": {},
   "outputs": [],
   "source": [
    "dblp = DBLP()"
   ]
  },
  {
   "cell_type": "code",
   "execution_count": 3,
   "metadata": {},
   "outputs": [
    {
     "name": "stdout",
     "output_type": "stream",
     "text": [
      "Already have the files [dblp_index/author.dat, dblp_index/title.dat] , directly load them.\n",
      "load authors...done\n",
      "load titles...done\n"
     ]
    }
   ],
   "source": [
    "dblp.create_index()#读入索引"
   ]
  },
  {
   "cell_type": "code",
   "execution_count": 4,
   "metadata": {},
   "outputs": [
    {
     "name": "stdin",
     "output_type": "stream",
     "text": [
      "please enter a name:  jiaying wang\n"
     ]
    },
    {
     "name": "stdout",
     "output_type": "stream",
     "text": [
      "--------------------------------------------------\n",
      "State-of-the-art in string similarity search and join. 10\n",
      "LS-Join: Local Similarity Join on String Collections. 1\n",
      "A Novel Resource Allocation and Spectrum Defragmentation Mechanism for IoT-Based Big Data in Smart Cities. 2\n",
      "LS-Join: Local Similarity Join on String Collections (Extended Abstract). 1\n",
      "Efficient direct search on compressed genomic data. 4\n",
      "An Efficient Trip Planning Algorithm under Constraints. 4\n",
      "Research on Diabetes Management Strategy Based on Deep Belief Network. 3\n",
      "An improved AdaBoost face detection algorithm based on optimizing skin color model. 3\n",
      "An Adaptive Approach of Approximate Substring Matching. 1\n",
      "Reducing Extension Edges of Concurrent Programs for Reachability Analysis. 2\n",
      "Memory-Aware BWT by Segmenting Sequences to Support Subsequence Search. 1\n",
      "Cache-aware parallel approximate matching and join algorithms using BWT. 1\n",
      "--------------------------------------------------\n",
      "12 papers were found.\n"
     ]
    }
   ],
   "source": [
    "name = input('please enter a name: ')\n",
    "titles_and_orders = dblp.search(name.strip().lower())    #函数返回一个放入所查作者的title的列表\n",
    "print('-'*50)\n",
    "for title, order in titles_and_orders:\n",
    "    print(title, order)\n",
    "print('-'*50)\n",
    "print(str(len(titles_and_orders)) + ' papers were found.')"
   ]
  },
  {
   "cell_type": "code",
   "execution_count": null,
   "metadata": {},
   "outputs": [],
   "source": []
  }
 ],
 "metadata": {
  "kernelspec": {
   "display_name": "Python 3",
   "language": "python",
   "name": "python3"
  },
  "language_info": {
   "codemirror_mode": {
    "name": "ipython",
    "version": 3
   },
   "file_extension": ".py",
   "mimetype": "text/x-python",
   "name": "python",
   "nbconvert_exporter": "python",
   "pygments_lexer": "ipython3",
   "version": "3.6.9"
  }
 },
 "nbformat": 4,
 "nbformat_minor": 4
}
