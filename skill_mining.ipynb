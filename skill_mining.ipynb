{
 "cells": [
  {
   "cell_type": "code",
   "execution_count": 1,
   "metadata": {},
   "outputs": [],
   "source": [
    "from skill_mining import Basic"
   ]
  },
  {
   "cell_type": "code",
   "execution_count": 2,
   "metadata": {},
   "outputs": [],
   "source": [
    "basic = Basic()"
   ]
  },
  {
   "cell_type": "code",
   "execution_count": 3,
   "metadata": {},
   "outputs": [
    {
     "name": "stdout",
     "output_type": "stream",
     "text": [
      "load authors...done\n",
      "Already have the files [dblp_index/keyword.dat, dblp_index/rake_score.dat] , directly load them.\n",
      "load keywords...done\n",
      "load rake scores...done\n"
     ]
    },
    {
     "data": {
      "text/plain": [
       "defaultdict(int,\n",
       "            {'spectre attacks': 13.227272727272727,\n",
       "             'exploiting speculative execution': 15.658362961818831,\n",
       "             'meltdown': 0.044921875,\n",
       "             'computer security': 3.685274693316901,\n",
       "             'broken': 1.6227436823104693,\n",
       "             'better hardware help fix': 6.986369473226638,\n",
       "             'reading kernel memory': 0.021561759020936492,\n",
       "             'user space': 0.014603720799323934,\n",
       "             'complexity': 1.8627670799261409,\n",
       "             'challenges': 1.5751012145748988,\n",
       "             'securing socs': 3.1964773172865204})"
      ]
     },
     "execution_count": 3,
     "metadata": {},
     "output_type": "execute_result"
    }
   ],
   "source": [
    "basic.get_skills('paul kocher')"
   ]
  },
  {
   "cell_type": "code",
   "execution_count": 4,
   "metadata": {},
   "outputs": [
    {
     "data": {
      "text/plain": [
       "defaultdict(int,\n",
       "            {'state-of-the-art': 0.0034627040692007797,\n",
       "             'string similarity search': 0.010651555561676924,\n",
       "             'join': 0.0033482142857142855,\n",
       "             'ls-join': 1.0,\n",
       "             'local similarity join': 10.787336459935545,\n",
       "             'string collections': 6.884722619822165,\n",
       "             'novel resource allocation': 3.0556528397701994,\n",
       "             'spectrum defragmentation mechanism': 2.6596582678354705,\n",
       "             'iot-based big data': 2.932457765706072,\n",
       "             'smart cities': 1.7364034052439017,\n",
       "             'extended abstract ).': 5.249925214980775,\n",
       "             'efficient direct search': 0.739175820146569,\n",
       "             'compressed genomic data': 0.6969115993581908,\n",
       "             'efficient trip planning algorithm': 0.9661111341794297,\n",
       "             'constraints': 0.19111135535736717,\n",
       "             'research': 0.42903584177169085,\n",
       "             'diabetes management strategy based': 1.9681746794527548,\n",
       "             'deep belief network': 1.4940467222139795,\n",
       "             'improved adaboost face detection algorithm based': 2.929833525304181,\n",
       "             'optimizing skin color model': 1.830132475263912,\n",
       "             'adaptive approach': 3.7893594457341204,\n",
       "             'approximate substring matching': 5.360479236257958,\n",
       "             'reducing extension edges': 2.332687434079916,\n",
       "             'concurrent programs': 1.709190269037565,\n",
       "             'reachability analysis': 1.6776084341362263,\n",
       "             'memory-aware bwt': 3.142810775722168,\n",
       "             'segmenting sequences': 3.2665667665667666,\n",
       "             'support subsequence search': 5.733697392363791,\n",
       "             'cache-aware parallel approximate matching': 7.402898100186812,\n",
       "             'join algorithms': 3.521786663772991,\n",
       "             'bwt': 1.2820512820512822})"
      ]
     },
     "execution_count": 4,
     "metadata": {},
     "output_type": "execute_result"
    }
   ],
   "source": [
    "basic.get_skills('jiaying wang')"
   ]
  },
  {
   "cell_type": "code",
   "execution_count": 6,
   "metadata": {},
   "outputs": [
    {
     "name": "stdout",
     "output_type": "stream",
     "text": [
      "already have weight file [dblp_index/text_rank.dat], directly load it\n",
      "load weights...done\n"
     ]
    },
    {
     "data": {
      "text/plain": [
       "defaultdict(int,\n",
       "            {'spectre attacks': 3.2583946651338254,\n",
       "             'exploiting speculative execution': 1.1425055153028216,\n",
       "             'meltdown': 0.056878241515011085,\n",
       "             'computer security': 43.96765272790615,\n",
       "             'broken': 6.0296040769945245,\n",
       "             'better hardware help fix': 0.13864780402755145,\n",
       "             'reading kernel memory': 0.0006580001156345637,\n",
       "             'user space': 0.015533984330212058,\n",
       "             'complexity': 1100.7596573262729,\n",
       "             'challenges': 1596.0724276095168,\n",
       "             'securing socs': 0.14711849158028095})"
      ]
     },
     "execution_count": 6,
     "metadata": {},
     "output_type": "execute_result"
    }
   ],
   "source": [
    "basic.get_skills('paul kocher', method='text rank')"
   ]
  },
  {
   "cell_type": "code",
   "execution_count": 7,
   "metadata": {},
   "outputs": [
    {
     "data": {
      "text/plain": [
       "defaultdict(int,\n",
       "            {'state-of-the-art': 0.13433728907830486,\n",
       "             'string similarity search': 0.0015838504221968842,\n",
       "             'join': 0.05871640468788459,\n",
       "             'ls-join': 0.6872156954613752,\n",
       "             'local similarity join': 0.6872157122444842,\n",
       "             'string collections': 3.504026907230921,\n",
       "             'novel resource allocation': 0.19673478084285576,\n",
       "             'spectrum defragmentation mechanism': 0.09953362133781786,\n",
       "             'iot-based big data': 0.3720657938856071,\n",
       "             'smart cities': 90.99259585314793,\n",
       "             'extended abstract ).': 358.5868686100687,\n",
       "             'efficient direct search': 0.06249998294545916,\n",
       "             'compressed genomic data': 0.06249998550364028,\n",
       "             'efficient trip planning algorithm': 0.014213107702913202,\n",
       "             'constraints': 37.942148173669885,\n",
       "             'research': 576.7679324045216,\n",
       "             'diabetes management strategy based': 0.039721193985376754,\n",
       "             'deep belief network': 4.530628693352189,\n",
       "             'improved adaboost face detection algorithm based': 0.11931720793106199,\n",
       "             'optimizing skin color model': 0.04410490668535068,\n",
       "             'adaptive approach': 35.310499364111145,\n",
       "             'approximate substring matching': 0.26069328954954596,\n",
       "             'reducing extension edges': 0.08059935947692982,\n",
       "             'concurrent programs': 18.82654083579258,\n",
       "             'reachability analysis': 17.147808916969634,\n",
       "             'memory-aware bwt': 0.30520840378146663,\n",
       "             'segmenting sequences': 0.5911460885996986,\n",
       "             'support subsequence search': 0.3052084066690721,\n",
       "             'cache-aware parallel approximate matching': 0.15838106081786923,\n",
       "             'join algorithms': 1.810783606081472,\n",
       "             'bwt': 2.4375868737900683})"
      ]
     },
     "execution_count": 7,
     "metadata": {},
     "output_type": "execute_result"
    }
   ],
   "source": [
    "basic.get_skills('jiaying wang', method='text rank')"
   ]
  },
  {
   "cell_type": "code",
   "execution_count": 8,
   "metadata": {},
   "outputs": [
    {
     "data": {
      "text/plain": [
       "defaultdict(int,\n",
       "            {'spectre attacks': 28.733116592543734,\n",
       "             'exploiting speculative execution': 11.926510696327625,\n",
       "             'meltdown': 0.14535550609391723,\n",
       "             'computer security': 324.06575584539667,\n",
       "             'broken': 19.569003845552626,\n",
       "             'better hardware help fix': 1.9372895711759894,\n",
       "             'reading kernel memory': 0.007264071643679134,\n",
       "             'user space': 0.11614923267045883,\n",
       "             'complexity': 4100.917705156322,\n",
       "             'challenges': 5027.951238554514,\n",
       "             'securing socs': 0.940521842579552})"
      ]
     },
     "execution_count": 8,
     "metadata": {},
     "output_type": "execute_result"
    }
   ],
   "source": [
    "basic.get_skills('paul kocher', method='combined')"
   ]
  },
  {
   "cell_type": "code",
   "execution_count": 9,
   "metadata": {},
   "outputs": [
    {
     "data": {
      "text/plain": [
       "defaultdict(int,\n",
       "            {'state-of-the-art': 0.47633436419773206,\n",
       "             'string similarity search': 0.017275362071977537,\n",
       "             'join': 0.20131338750131858,\n",
       "             'ls-join': 0.6872156954613752,\n",
       "             'local similarity join': 7.413227108535499,\n",
       "             'string collections': 24.124253308678227,\n",
       "             'novel resource allocation': 2.40461276705616,\n",
       "             'spectrum defragmentation mechanism': 1.0589016756749292,\n",
       "             'iot-based big data': 4.364268906533773,\n",
       "             'smart cities': 631.9994131655528,\n",
       "             'extended abstract ).': 3765.108486553995,\n",
       "             'efficient direct search': 0.7391756184457016,\n",
       "             'compressed genomic data': 0.6969114377152911,\n",
       "             'efficient trip planning algorithm': 0.21970306564921382,\n",
       "             'constraints': 116.01880580224169,\n",
       "             'research': 1979.632923088733,\n",
       "             'diabetes management strategy based': 0.6254259859171967,\n",
       "             'deep belief network': 54.151767590971545,\n",
       "             'improved adaboost face detection algorithm based': 2.7966364475369225,\n",
       "             'optimizing skin color model': 0.6457425763467576,\n",
       "             'adaptive approach': 267.6083485979664,\n",
       "             'approximate substring matching': 2.7948819313242494,\n",
       "             'reducing extension edges': 0.7520524521868968,\n",
       "             'concurrent programs': 128.71256158470013,\n",
       "             'reachability analysis': 115.06923546425858,\n",
       "             'memory-aware bwt': 1.9184245204907118,\n",
       "             'segmenting sequences': 3.862036334411418,\n",
       "             'support subsequence search': 3.499945290891932,\n",
       "             'cache-aware parallel approximate matching': 2.3449577084683524,\n",
       "             'join algorithms': 12.754387109752985,\n",
       "             'bwt': 6.2502227533078685})"
      ]
     },
     "execution_count": 9,
     "metadata": {},
     "output_type": "execute_result"
    }
   ],
   "source": [
    "basic.get_skills('jiaying wang', method='combined')"
   ]
  },
  {
   "cell_type": "code",
   "execution_count": null,
   "metadata": {},
   "outputs": [],
   "source": []
  }
 ],
 "metadata": {
  "kernelspec": {
   "display_name": "Python 3",
   "language": "python",
   "name": "python3"
  },
  "language_info": {
   "codemirror_mode": {
    "name": "ipython",
    "version": 3
   },
   "file_extension": ".py",
   "mimetype": "text/x-python",
   "name": "python",
   "nbconvert_exporter": "python",
   "pygments_lexer": "ipython3",
   "version": "3.6.9"
  }
 },
 "nbformat": 4,
 "nbformat_minor": 4
}
