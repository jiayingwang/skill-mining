{
 "cells": [
  {
   "cell_type": "code",
   "execution_count": 4,
   "metadata": {},
   "outputs": [
    {
     "name": "stdout",
     "output_type": "stream",
     "text": [
      "please enter a name: paul kocher\n",
      "['spectre_attacks:4.45485866416099', 'exploiting_speculative_execution:5.216260311513485', 'meltdown:0.019965277777777776', 'meltdown:0.019965277777777776', 'spectre_attacks:4.45485866416099', 'exploiting_speculative_execution:5.216260311513485', 'computer_security:3.684242859651068', 'broken:1.621771217712177', 'better_hardware_help_fix:6.9864797763930415', 'meltdown:0.004991319444444444', 'reading_kernel_memory:0.021558361243594767', 'user_space:0.014593733076779917', 'complexity:1.8626657824933688', 'challenges:1.5746938775510204', 'securing_socs:3.197600567976833']\n"
     ]
    }
   ],
   "source": [
    "''' 关键字和权重 '''\n",
    "def search(author_name):\n",
    "    authors = {}\n",
    "    keywords = []\n",
    "    kw = []\n",
    "    kw_file = open(r'dblp_index\\keywords.dat', encoding = 'utf-8')\n",
    "    author_file = open(r'dblp_index\\author.dat', encoding = 'utf-8')\n",
    "    for line in author_file:\n",
    "            L = line.split(':')\n",
    "            authors[L[0]] = [x for x in L[1].split(',')]\n",
    "    for line in kw_file:\n",
    "            keywords.append(line)\n",
    "    if author_name in authors:\n",
    "        for idx in authors[author_name]:\n",
    "            a = idx.split(\" \")\n",
    "            str_line = keywords[int(a[0])]\n",
    "            str_line = str_line.replace(\"\\n\",\"\")\n",
    "            for i in str_line.split(','):\n",
    "                b = i.split(\":\")\n",
    "                count = float(b[1]) * (0.5 ** int(a[1]))\n",
    "                kw.append(b[0]+\":\"+str(count))\n",
    "    return kw\n",
    "name = input('please enter a name: ')\n",
    "kw = search(name.strip().lower())\n",
    "print(kw)                                   "
   ]
  },
  {
   "cell_type": "code",
   "execution_count": 5,
   "metadata": {},
   "outputs": [
    {
     "name": "stdout",
     "output_type": "stream",
     "text": [
      "{'spectre_attacks': 8.90971732832198, 'exploiting_speculative_execution': 10.43252062302697, 'meltdown': 0.044921875, 'computer_security': 3.684242859651068, 'broken': 1.621771217712177, 'better_hardware_help_fix': 6.9864797763930415, 'reading_kernel_memory': 0.021558361243594767, 'user_space': 0.014593733076779917, 'complexity': 1.8626657824933688, 'challenges': 1.5746938775510204, 'securing_socs': 3.197600567976833}\n"
     ]
    }
   ],
   "source": [
    "'''合并重复的关键词权重'''\n",
    "dictin = {}    \n",
    "for j in kw:\n",
    "    t = j.split(\":\")\n",
    "    weight = float(t[1])\n",
    "    dictin[t[0]] = dictin.setdefault(t[0],0) + weight\n",
    "print(dictin)    "
   ]
  }
 ],
 "metadata": {
  "kernelspec": {
   "display_name": "Python 3",
   "language": "python",
   "name": "python3"
  },
  "language_info": {
   "codemirror_mode": {
    "name": "ipython",
    "version": 3
   },
   "file_extension": ".py",
   "mimetype": "text/x-python",
   "name": "python",
   "nbconvert_exporter": "python",
   "pygments_lexer": "ipython3",
   "version": "3.7.6"
  }
 },
 "nbformat": 4,
 "nbformat_minor": 4
}
