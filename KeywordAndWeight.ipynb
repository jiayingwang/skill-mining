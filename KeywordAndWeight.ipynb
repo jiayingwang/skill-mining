{
 "cells": [
  {
   "cell_type": "code",
   "execution_count": 1,
   "metadata": {},
   "outputs": [],
   "source": [
    "from skill_mining import Basic"
   ]
  },
  {
   "cell_type": "code",
   "execution_count": 2,
   "metadata": {},
   "outputs": [
    {
     "name": "stdout",
     "output_type": "stream",
     "text": [
      "load index...done.\n"
     ]
    }
   ],
   "source": [
    "basic = Basic()"
   ]
  },
  {
   "cell_type": "code",
   "execution_count": 3,
   "metadata": {},
   "outputs": [
    {
     "name": "stdout",
     "output_type": "stream",
     "text": [
      "generate phrases...done\n",
      "build freq...done\n",
      "build degree...done\n",
      "build rank...done\n",
      "generate keywords................................................done\n"
     ]
    }
   ],
   "source": [
    "basic.generate_keywords()"
   ]
  },
  {
   "cell_type": "code",
   "execution_count": 4,
   "metadata": {},
   "outputs": [
    {
     "name": "stdout",
     "output_type": "stream",
     "text": [
      "load keywords...done.\n"
     ]
    }
   ],
   "source": [
    "basic.load_keywords()"
   ]
  },
  {
   "cell_type": "code",
   "execution_count": 5,
   "metadata": {},
   "outputs": [
    {
     "data": {
      "text/plain": [
       "{'spectre_attacks': 13.227272727272727,\n",
       " 'exploiting_speculative_execution': 15.658362961818831,\n",
       " 'meltdown': 0.044921875,\n",
       " 'computer_security': 3.685274693316901,\n",
       " 'broken': 1.6227436823104693,\n",
       " 'better_hardware_help_fix': 6.986369473226638,\n",
       " 'reading_kernel_memory': 0.021561759020936492,\n",
       " 'user_space': 0.006773603723404255,\n",
       " 'complexity': 1.8627670799261409,\n",
       " 'challenges': 1.5751012145748988,\n",
       " 'securing_socs': 3.1964773172865204}"
      ]
     },
     "execution_count": 5,
     "metadata": {},
     "output_type": "execute_result"
    }
   ],
   "source": [
    "basic.search_skills('paul kocher')"
   ]
  },
  {
   "cell_type": "code",
   "execution_count": null,
   "metadata": {},
   "outputs": [],
   "source": []
  }
 ],
 "metadata": {
  "kernelspec": {
   "display_name": "Python 3",
   "language": "python",
   "name": "python3"
  },
  "language_info": {
   "codemirror_mode": {
    "name": "ipython",
    "version": 3
   },
   "file_extension": ".py",
   "mimetype": "text/x-python",
   "name": "python",
   "nbconvert_exporter": "python",
   "pygments_lexer": "ipython3",
   "version": "3.7.2"
  }
 },
 "nbformat": 4,
 "nbformat_minor": 4
}
